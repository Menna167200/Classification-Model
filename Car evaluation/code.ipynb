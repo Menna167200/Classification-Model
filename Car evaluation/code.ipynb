{
 "cells": [
  {
   "cell_type": "markdown",
   "metadata": {},
   "source": [
    "Loading libraries"
   ]
  },
  {
   "cell_type": "code",
   "execution_count": 1,
   "metadata": {},
   "outputs": [],
   "source": [
    "import numpy as np\n",
    "import pandas as pd\n",
    "import matplotlib.pyplot as plt"
   ]
  },
  {
   "cell_type": "markdown",
   "metadata": {},
   "source": [
    "Loading data"
   ]
  },
  {
   "cell_type": "code",
   "execution_count": 2,
   "metadata": {},
   "outputs": [
    {
     "name": "stdout",
     "output_type": "stream",
     "text": [
      "     buying  maint  doors persons lug_boot safety  class\n",
      "0     vhigh  vhigh      2       2    small    low  unacc\n",
      "1     vhigh  vhigh      2       2    small    med  unacc\n",
      "2     vhigh  vhigh      2       2    small   high  unacc\n",
      "3     vhigh  vhigh      2       2      med    low  unacc\n",
      "4     vhigh  vhigh      2       2      med    med  unacc\n",
      "...     ...    ...    ...     ...      ...    ...    ...\n",
      "1713    low    low  5more       4      med    low  unacc\n",
      "1714    low    low  5more       4      med    med   good\n",
      "1715    low    low  5more       4      med   high  vgood\n",
      "1716    low    low  5more       4      big    low  unacc\n",
      "1717    low    low  5more       4      big    med   good\n",
      "\n",
      "[1718 rows x 7 columns]\n"
     ]
    }
   ],
   "source": [
    "data = pd.read_csv('car.data')\n",
    "print(data[:-10])"
   ]
  },
  {
   "cell_type": "markdown",
   "metadata": {},
   "source": [
    "Encoding the Features"
   ]
  },
  {
   "cell_type": "code",
   "execution_count": 3,
   "metadata": {},
   "outputs": [
    {
     "name": "stdout",
     "output_type": "stream",
     "text": [
      "      buying  maint  doors  persons  lug_boot  safety  class\n",
      "0          3      3      2        2         0       0      0\n",
      "1          3      3      2        2         0       1      0\n",
      "2          3      3      2        2         0       2      0\n",
      "3          3      3      2        2         1       0      0\n",
      "4          3      3      2        2         1       1      0\n",
      "...      ...    ...    ...      ...       ...     ...    ...\n",
      "1713       0      0      5        4         1       0      0\n",
      "1714       0      0      5        4         1       1      2\n",
      "1715       0      0      5        4         1       2      3\n",
      "1716       0      0      5        4         2       0      0\n",
      "1717       0      0      5        4         2       1      2\n",
      "\n",
      "[1718 rows x 7 columns]\n"
     ]
    }
   ],
   "source": [
    "# i'm using a dictionary to map the values to numbers\n",
    "buying = {\n",
    "    'low': 0,\n",
    "    'med': 1,\n",
    "    'high': 2,\n",
    "    'vhigh': 3\n",
    "}\n",
    "maint = {\n",
    "    'low': 0,\n",
    "    'med': 1,\n",
    "    'high': 2,\n",
    "    'vhigh': 3\n",
    "}\n",
    "doors = {\n",
    "    '2': 2,\n",
    "    '3': 3,\n",
    "    '4':4,\n",
    "    '5more': 5\n",
    "}\n",
    "persons = {\n",
    "    '2': 2,\n",
    "    '4': 4,\n",
    "    'more': 5\n",
    "}\n",
    "lug_boot = {\n",
    "    'small': 0,\n",
    "    'med': 1,\n",
    "    'big': 2\n",
    "}\n",
    "safety = {\n",
    "    'low': 0,\n",
    "    'med': 1,\n",
    "    'high': 2\n",
    "}\n",
    "class_dic = {\n",
    "    'unacc': 0,\n",
    "    'acc': 1,\n",
    "    'good': 2,\n",
    "    'vgood': 3 \n",
    "}\n",
    "data = data.replace({ 'buying': buying, 'maint': maint, 'doors': doors, 'persons': persons, 'lug_boot': lug_boot, 'safety': safety, 'class': class_dic})\n",
    "print(data[:-10])"
   ]
  },
  {
   "cell_type": "markdown",
   "metadata": {},
   "source": [
    "Visualizing Which features affect the class the most"
   ]
  },
  {
   "cell_type": "code",
   "execution_count": 4,
   "metadata": {},
   "outputs": [
    {
     "name": "stdout",
     "output_type": "stream",
     "text": [
      "(1728, 4)\n"
     ]
    },
    {
     "data": {
      "image/png": "[encoded data removed]",
      "text/plain": [
       "<Figure size 640x480 with 1 Axes>"
      ]
     },
     "metadata": {},
     "output_type": "display_data"
    }
   ],
   "source": [
    "Y = data['class']\n",
    "X = data.drop(['class'], axis=1)\n",
    "from sklearn.feature_selection import SelectKBest,f_classif\n",
    "selector = SelectKBest(f_classif,k=4)\n",
    "X_new = selector.fit_transform(X,Y)\n",
    "print(X_new.shape)\n",
    "for i,j in zip(X.columns,selector.scores_):\n",
    "    plt.bar(i,j)\n",
    "plt.show()"
   ]
  },
  {
   "cell_type": "code",
   "execution_count": 5,
   "metadata": {},
   "outputs": [
    {
     "name": "stdout",
     "output_type": "stream",
     "text": [
      "[ True  True False  True False  True]\n",
      "['buying' 'maint' 'persons' 'safety']\n"
     ]
    }
   ],
   "source": [
    "print(selector.get_support())\n",
    "features = X.columns[selector.get_support()].values\n",
    "print(features)"
   ]
  },
  {
   "cell_type": "markdown",
   "metadata": {},
   "source": [
    "Splitting the data into training , validation and testing sets"
   ]
  },
  {
   "cell_type": "code",
   "execution_count": 6,
   "metadata": {},
   "outputs": [
    {
     "name": "stdout",
     "output_type": "stream",
     "text": [
      "(1728, 6) (1728,)\n",
      "(967, 6) (415, 6) (346, 6)\n"
     ]
    }
   ],
   "source": [
    "X = X.values\n",
    "Y = Y.values\n",
    "print(X.shape, Y.shape)\n",
    "from sklearn.model_selection import train_test_split\n",
    "X_,X_test,y_,y_test = train_test_split(X,Y,test_size=0.2,random_state=42)\n",
    "X_train,X_val,y_train,y_val = train_test_split(X_,y_,test_size=0.3,random_state=42)\n",
    "print(X_train.shape,X_val.shape,X_test.shape)"
   ]
  },
  {
   "cell_type": "markdown",
   "metadata": {},
   "source": [
    "Choosing the best hyperparameters"
   ]
  },
  {
   "cell_type": "code",
   "execution_count": 7,
   "metadata": {},
   "outputs": [
    {
     "name": "stdout",
     "output_type": "stream",
     "text": [
      "{'metric': 'manhattan', 'n_neighbors': 7, 'weights': 'distance'}\n"
     ]
    }
   ],
   "source": [
    "from sklearn.neighbors import KNeighborsClassifier\n",
    "from sklearn.model_selection import GridSearchCV\n",
    "model = KNeighborsClassifier()\n",
    "params = {\n",
    "    'n_neighbors': [1, 3, 5, 7, 9, 11, 13, 15],\n",
    "    'weights': ['uniform', 'distance'],\n",
    "    'metric': ['euclidean', 'manhattan']\n",
    "}\n",
    "grid = GridSearchCV(model, params,scoring='accuracy')\n",
    "grid.fit(X_train, y_train)\n",
    "print(grid.best_params_)"
   ]
  },
  {
   "cell_type": "markdown",
   "metadata": {},
   "source": [
    "KNN Model"
   ]
  },
  {
   "cell_type": "code",
   "execution_count": 8,
   "metadata": {},
   "outputs": [
    {
     "name": "stdout",
     "output_type": "stream",
     "text": [
      "Val Accuracy: 0.9421686746987952\n",
      "Test Accuracy: 0.9393063583815029\n"
     ]
    }
   ],
   "source": [
    "from sklearn.metrics import accuracy_score\n",
    "model = KNeighborsClassifier(n_neighbors=grid.best_params_['n_neighbors'], weights=grid.best_params_['weights'], metric=grid.best_params_['metric'])\n",
    "model.fit(X_train,y_train)\n",
    "y_pred = model.predict(X_val)\n",
    "print(f'Val Accuracy: {accuracy_score(y_val,y_pred)}')\n",
    "prediction = model.predict(X_test)\n",
    "print(f'Test Accuracy: {accuracy_score(y_test,prediction)}')"
   ]
  },
  {
   "cell_type": "markdown",
   "metadata": {},
   "source": [
    "Checking wrong predictions"
   ]
  },
  {
   "cell_type": "code",
   "execution_count": 9,
   "metadata": {},
   "outputs": [
    {
     "name": "stdout",
     "output_type": "stream",
     "text": [
      "Wrong Prediction Positions: (array([  1,  10,  35,  44,  45,  75,  88, 104, 106, 121, 126, 132, 142,\n",
      "       197, 209, 219, 220, 223, 278, 302, 310], dtype=int64),)\n",
      "1 0\n",
      "3 1\n",
      "acc unacc\n",
      "vgood acc\n"
     ]
    }
   ],
   "source": [
    "wrong = np.where(y_test != prediction)\n",
    "print(f'Wrong Prediction Positions: {wrong}')\n",
    "print(y_test[wrong[0][0]], prediction[wrong[0][0]])#cause it's a tuple\n",
    "print(y_test[wrong[0][-1]], prediction[wrong[0][-1]])\n",
    "# convert the class_dic back to the original values\n",
    "class_dic = {\n",
    "    0: 'unacc',\n",
    "    1: 'acc',\n",
    "    2: 'good',\n",
    "    3: 'vgood' \n",
    "}\n",
    "print(class_dic[y_test[wrong[0][0]]], class_dic[prediction[wrong[0][0]]])\n",
    "print(class_dic[y_test[wrong[0][-1]]], class_dic[prediction[wrong[0][-1]]])"
   ]
  },
  {
   "cell_type": "code",
   "execution_count": 25,
   "metadata": {},
   "outputs": [
    {
     "name": "stdout",
     "output_type": "stream",
     "text": [
      "Predicted value: 3 , Actual value: 3\n",
      "Predicted value: vgood,   Actual value: vgood\n"
     ]
    }
   ],
   "source": [
    "index = np.random.randint(0, len(y_test))\n",
    "print(f'Predicted value: {prediction[index]} , Actual value: {y_test[index]}')\n",
    "print(f'Predicted value: {class_dic[prediction[index]]},   Actual value: {class_dic[y_test[index]]}')"
   ]
  }
 ],
 "metadata": {
  "kernelspec": {
   "display_name": "Python 3",
   "language": "python",
   "name": "python3"
  },
  "language_info": {
   "codemirror_mode": {
    "name": "ipython",
    "version": 3
   },
   "file_extension": ".py",
   "mimetype": "text/x-python",
   "name": "python",
   "nbconvert_exporter": "python",
   "pygments_lexer": "ipython3",
   "version": "3.11.5"
  },
  "orig_nbformat": 4
 },
 "nbformat": 4,
 "nbformat_minor": 2
}
